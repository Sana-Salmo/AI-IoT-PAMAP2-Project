{
 "cells": [
  {
   "cell_type": "markdown",
   "id": "30f9bb77",
   "metadata": {},
   "source": [
    "# PCA-Based Feature Reduction for IoT Sensor Data\n",
    "This notebook simulates applying PCA and evaluating multiple ML models on a PAMAP2-like dataset."
   ]
  },
  {
   "cell_type": "code",
   "execution_count": null,
   "id": "b662fa08",
   "metadata": {},
   "outputs": [],
   "source": [
    "import pandas as pd\n",
    "import numpy as np\n",
    "from sklearn.decomposition import PCA\n",
    "from sklearn.model_selection import train_test_split\n",
    "from sklearn.preprocessing import StandardScaler\n",
    "from sklearn.impute import SimpleImputer\n",
    "from sklearn.svm import SVC\n",
    "from sklearn.tree import DecisionTreeClassifier\n",
    "from sklearn.ensemble import RandomForestClassifier\n",
    "from sklearn.neighbors import KNeighborsClassifier\n",
    "from sklearn.linear_model import LogisticRegression\n",
    "from sklearn.metrics import accuracy_score\n",
    "\n",
    "# Simulate PAMAP2-like dataset\n",
    "np.random.seed(42)\n",
    "X_simulated = np.random.randn(1000, 54)\n",
    "mask = np.random.rand(*X_simulated.shape) < 0.05\n",
    "X_simulated[mask] = np.nan\n",
    "y_simulated = np.random.choice([1, 2, 3, 4, 5], size=1000)\n"
   ]
  },
  {
   "cell_type": "code",
   "execution_count": null,
   "id": "2987b59f",
   "metadata": {},
   "outputs": [],
   "source": [
    "# Handle missing values\n",
    "imputer = SimpleImputer(strategy='mean')\n",
    "X_imputed = imputer.fit_transform(X_simulated)\n",
    "\n",
    "# Standardize features\n",
    "scaler = StandardScaler()\n",
    "X_scaled = scaler.fit_transform(X_imputed)\n",
    "\n",
    "# Apply PCA to retain 95% variance\n",
    "pca = PCA(n_components=0.95)\n",
    "X_pca = pca.fit_transform(X_scaled)\n",
    "\n",
    "# Split the data\n",
    "X_train, X_test, y_train, y_test = train_test_split(X_scaled, y_simulated, test_size=0.3, random_state=42)\n",
    "X_train_pca, X_test_pca, _, _ = train_test_split(X_pca, y_simulated, test_size=0.3, random_state=42)\n"
   ]
  },
  {
   "cell_type": "code",
   "execution_count": null,
   "id": "610f8245",
   "metadata": {},
   "outputs": [],
   "source": [
    "# Define models\n",
    "models = {\n",
    "    \"SVM\": SVC(),\n",
    "    \"Decision Tree\": DecisionTreeClassifier(),\n",
    "    \"Random Forest\": RandomForestClassifier(),\n",
    "    \"KNN\": KNeighborsClassifier(),\n",
    "    \"Logistic Regression\": LogisticRegression(max_iter=500)\n",
    "}\n",
    "\n",
    "# Evaluate and store results\n",
    "results = []\n",
    "for name, model in models.items():\n",
    "    model.fit(X_train, y_train)\n",
    "    acc_original = accuracy_score(y_test, model.predict(X_test))\n",
    "\n",
    "    model.fit(X_train_pca, y_train)\n",
    "    acc_pca = accuracy_score(y_test, model.predict(X_test_pca))\n",
    "\n",
    "    results.append({\n",
    "        \"Model\": name,\n",
    "        \"Accuracy (Original)\": round(acc_original * 100, 2),\n",
    "        \"Accuracy (PCA)\": round(acc_pca * 100, 2)\n",
    "    })\n",
    "\n",
    "results_df = pd.DataFrame(results)\n",
    "results_df\n"
   ]
  }
 ],
 "metadata": {},
 "nbformat": 4,
 "nbformat_minor": 5
}
